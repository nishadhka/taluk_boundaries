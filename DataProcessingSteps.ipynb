{
 "cells": [
  {
   "cell_type": "markdown",
   "metadata": {
    "toc": "true"
   },
   "source": [
    "# Table of Contents\n",
    " <p><div class=\"lev1 toc-item\"><a href=\"#India-Admin3-1971\" data-toc-modified-id=\"India-Admin3-1971-1\"><span class=\"toc-item-num\">1&nbsp;&nbsp;</span>India Admin3 1971</a></div><div class=\"lev2 toc-item\"><a href=\"#Converting-the-INDIA_ADMIN_3_2739.shp-into-geojson\" data-toc-modified-id=\"Converting-the-INDIA_ADMIN_3_2739.shp-into-geojson-11\"><span class=\"toc-item-num\">1.1&nbsp;&nbsp;</span>Converting the INDIA_ADMIN_3_2739.shp into geojson</a></div><div class=\"lev1 toc-item\"><a href=\"#India-Admin3-2001\" data-toc-modified-id=\"India-Admin3-2001-2\"><span class=\"toc-item-num\">2&nbsp;&nbsp;</span>India Admin3 2001</a></div><div class=\"lev1 toc-item\"><a href=\"#India-Admin3-2011\" data-toc-modified-id=\"India-Admin3-2011-3\"><span class=\"toc-item-num\">3&nbsp;&nbsp;</span>India Admin3 2011</a></div><div class=\"lev2 toc-item\"><a href=\"#Pdf-into-svg\" data-toc-modified-id=\"Pdf-into-svg-31\"><span class=\"toc-item-num\">3.1&nbsp;&nbsp;</span>Pdf into svg</a></div><div class=\"lev2 toc-item\"><a href=\"#SVG-into-geojson-linestrings\" data-toc-modified-id=\"SVG-into-geojson-linestrings-32\"><span class=\"toc-item-num\">3.2&nbsp;&nbsp;</span>SVG into geojson linestrings</a></div><div class=\"lev3 toc-item\"><a href=\"#for-state-with-censuscode-9\" data-toc-modified-id=\"for-state-with-censuscode-9-321\"><span class=\"toc-item-num\">3.2.1&nbsp;&nbsp;</span>for state with censuscode 9</a></div><div class=\"lev3 toc-item\"><a href=\"#for-state-with-censuscode-10\" data-toc-modified-id=\"for-state-with-censuscode-10-322\"><span class=\"toc-item-num\">3.2.2&nbsp;&nbsp;</span>for state with censuscode 10</a></div><div class=\"lev3 toc-item\"><a href=\"#for-state-with-censuscode-11\" data-toc-modified-id=\"for-state-with-censuscode-11-323\"><span class=\"toc-item-num\">3.2.3&nbsp;&nbsp;</span>for state with censuscode 11</a></div><div class=\"lev3 toc-item\"><a href=\"#for-state-with-censuscode-12\" data-toc-modified-id=\"for-state-with-censuscode-12-324\"><span class=\"toc-item-num\">3.2.4&nbsp;&nbsp;</span>for state with censuscode 12</a></div><div class=\"lev3 toc-item\"><a href=\"#for-state-with-censuscode-13\" data-toc-modified-id=\"for-state-with-censuscode-13-325\"><span class=\"toc-item-num\">3.2.5&nbsp;&nbsp;</span>for state with censuscode 13</a></div><div class=\"lev3 toc-item\"><a href=\"#for-state-with-censuscode-14\" data-toc-modified-id=\"for-state-with-censuscode-14-326\"><span class=\"toc-item-num\">3.2.6&nbsp;&nbsp;</span>for state with censuscode 14</a></div><div class=\"lev3 toc-item\"><a href=\"#for-state-with-censuscode-15\" data-toc-modified-id=\"for-state-with-censuscode-15-327\"><span class=\"toc-item-num\">3.2.7&nbsp;&nbsp;</span>for state with censuscode 15</a></div><div class=\"lev3 toc-item\"><a href=\"#for-state-with-censuscode-16\" data-toc-modified-id=\"for-state-with-censuscode-16-328\"><span class=\"toc-item-num\">3.2.8&nbsp;&nbsp;</span>for state with censuscode 16</a></div><div class=\"lev3 toc-item\"><a href=\"#for-state-with-censuscode-17\" data-toc-modified-id=\"for-state-with-censuscode-17-329\"><span class=\"toc-item-num\">3.2.9&nbsp;&nbsp;</span>for state with censuscode 17</a></div><div class=\"lev3 toc-item\"><a href=\"#for-state-with-censuscode-18\" data-toc-modified-id=\"for-state-with-censuscode-18-3210\"><span class=\"toc-item-num\">3.2.10&nbsp;&nbsp;</span>for state with censuscode 18</a></div><div class=\"lev3 toc-item\"><a href=\"#for-state-with-censuscode-19\" data-toc-modified-id=\"for-state-with-censuscode-19-3211\"><span class=\"toc-item-num\">3.2.11&nbsp;&nbsp;</span>for state with censuscode 19</a></div><div class=\"lev3 toc-item\"><a href=\"#for-state-with-censuscode-20\" data-toc-modified-id=\"for-state-with-censuscode-20-3212\"><span class=\"toc-item-num\">3.2.12&nbsp;&nbsp;</span>for state with censuscode 20</a></div><div class=\"lev3 toc-item\"><a href=\"#for-state-with-censuscode-21\" data-toc-modified-id=\"for-state-with-censuscode-21-3213\"><span class=\"toc-item-num\">3.2.13&nbsp;&nbsp;</span>for state with censuscode 21</a></div><div class=\"lev3 toc-item\"><a href=\"#for-state-with-censuscode-22\" data-toc-modified-id=\"for-state-with-censuscode-22-3214\"><span class=\"toc-item-num\">3.2.14&nbsp;&nbsp;</span>for state with censuscode 22</a></div><div class=\"lev3 toc-item\"><a href=\"#for-state-with-censuscode-23\" data-toc-modified-id=\"for-state-with-censuscode-23-3215\"><span class=\"toc-item-num\">3.2.15&nbsp;&nbsp;</span>for state with censuscode 23</a></div><div class=\"lev3 toc-item\"><a href=\"#for-state-with-censuscode-24\" data-toc-modified-id=\"for-state-with-censuscode-24-3216\"><span class=\"toc-item-num\">3.2.16&nbsp;&nbsp;</span>for state with censuscode 24</a></div><div class=\"lev3 toc-item\"><a href=\"#for-state-with-censuscode-25\" data-toc-modified-id=\"for-state-with-censuscode-25-3217\"><span class=\"toc-item-num\">3.2.17&nbsp;&nbsp;</span>for state with censuscode 25</a></div><div class=\"lev3 toc-item\"><a href=\"#for-state-with-censuscode-26\" data-toc-modified-id=\"for-state-with-censuscode-26-3218\"><span class=\"toc-item-num\">3.2.18&nbsp;&nbsp;</span>for state with censuscode 26</a></div><div class=\"lev3 toc-item\"><a href=\"#for-state-with-censuscode-27\" data-toc-modified-id=\"for-state-with-censuscode-27-3219\"><span class=\"toc-item-num\">3.2.19&nbsp;&nbsp;</span>for state with censuscode 27</a></div><div class=\"lev3 toc-item\"><a href=\"#for-state-with-censuscode-28\" data-toc-modified-id=\"for-state-with-censuscode-28-3220\"><span class=\"toc-item-num\">3.2.20&nbsp;&nbsp;</span>for state with censuscode 28</a></div><div class=\"lev3 toc-item\"><a href=\"#for-state-with-censuscode-29\" data-toc-modified-id=\"for-state-with-censuscode-29-3221\"><span class=\"toc-item-num\">3.2.21&nbsp;&nbsp;</span>for state with censuscode 29</a></div><div class=\"lev3 toc-item\"><a href=\"#for-state-with-censuscode-30\" data-toc-modified-id=\"for-state-with-censuscode-30-3222\"><span class=\"toc-item-num\">3.2.22&nbsp;&nbsp;</span>for state with censuscode 30</a></div><div class=\"lev3 toc-item\"><a href=\"#for-state-with-censuscode-31\" data-toc-modified-id=\"for-state-with-censuscode-31-3223\"><span class=\"toc-item-num\">3.2.23&nbsp;&nbsp;</span>for state with censuscode 31</a></div><div class=\"lev3 toc-item\"><a href=\"#for-state-with-censuscode-32\" data-toc-modified-id=\"for-state-with-censuscode-32-3224\"><span class=\"toc-item-num\">3.2.24&nbsp;&nbsp;</span>for state with censuscode 32</a></div><div class=\"lev3 toc-item\"><a href=\"#for-state-with-censuscode-33\" data-toc-modified-id=\"for-state-with-censuscode-33-3225\"><span class=\"toc-item-num\">3.2.25&nbsp;&nbsp;</span>for state with censuscode 33</a></div><div class=\"lev3 toc-item\"><a href=\"#for-state-with-censuscode-34\" data-toc-modified-id=\"for-state-with-censuscode-34-3226\"><span class=\"toc-item-num\">3.2.26&nbsp;&nbsp;</span>for state with censuscode 34</a></div><div class=\"lev3 toc-item\"><a href=\"#for-state-with-censuscode-1\" data-toc-modified-id=\"for-state-with-censuscode-1-3227\"><span class=\"toc-item-num\">3.2.27&nbsp;&nbsp;</span>for state with censuscode 1</a></div><div class=\"lev3 toc-item\"><a href=\"#for-state-with-censuscode-6\" data-toc-modified-id=\"for-state-with-censuscode-6-3228\"><span class=\"toc-item-num\">3.2.28&nbsp;&nbsp;</span>for state with censuscode 6</a></div><div class=\"lev3 toc-item\"><a href=\"#for-state-with-censuscode-7\" data-toc-modified-id=\"for-state-with-censuscode-7-3229\"><span class=\"toc-item-num\">3.2.29&nbsp;&nbsp;</span>for state with censuscode 7</a></div><div class=\"lev3 toc-item\"><a href=\"#for-state-with-censuscode-8\" data-toc-modified-id=\"for-state-with-censuscode-8-3230\"><span class=\"toc-item-num\">3.2.30&nbsp;&nbsp;</span>for state with censuscode 8</a></div><div class=\"lev2 toc-item\"><a href=\"#convert-the-line-vector-geojson-into-polygons\" data-toc-modified-id=\"convert-the-line-vector-geojson-into-polygons-33\"><span class=\"toc-item-num\">3.3&nbsp;&nbsp;</span>convert the line vector geojson into polygons</a></div>"
   ]
  },
  {
   "cell_type": "markdown",
   "metadata": {},
   "source": [
    "# India Admin3 1971"
   ]
  },
  {
   "cell_type": "markdown",
   "metadata": {},
   "source": [
    "## Converting the INDIA_ADMIN_3_2739.shp into geojson\n",
    "\n",
    "1. this file is named into India_admin3_1971, where 1971 dentoes the year. Based on Census of India Atlas [2011](http://censusindia.gov.in/2011census/maps/administrative_maps/Final%20Atlas%20India%202011.pdf) and paper on [disctirct number changes in India ](www.cdedse.org/pdf/work176.pdf), the total number of subdistricts in India for 2011 census is 5924, for 2001 is 5463, the district count during this time is 640 and 593 respectivly. Based on this propotion of mean 10 subdistirct for each district, during 1971 census the number of distircts in India is 356 and assumed that the count 2739 may be of census of India 1971 and thus the name change. "
   ]
  },
  {
   "cell_type": "code",
   "execution_count": 5,
   "metadata": {
    "collapsed": true
   },
   "outputs": [],
   "source": [
    "import geopandas as gp\n",
    "\n",
    "db=gp.read_file('INDIA_ADMIN_3_2739.shp')\n",
    "db1=db[['TALUK', 'STATE', 'DISTRICT','geometry']]\n",
    "db2=gp.GeoDataFrame(db1)\n",
    "db2.to_file('India_admin3_1971.geojson', driver=\"GeoJSON\")"
   ]
  },
  {
   "cell_type": "markdown",
   "metadata": {},
   "source": [
    "# India Admin3 2001\n",
    "\n",
    "1. The Datameet discussion on [India shape files](https://groups.google.com/d/msg/datameet/X5kzViRMJKs/RvjsNPKzkn8J), subditsrict shape file was downloaded from the link proivided in the thread, it has 5469 attributes nearing to count given in Census of India atlas 2011."
   ]
  },
  {
   "cell_type": "code",
   "execution_count": 10,
   "metadata": {
    "collapsed": true
   },
   "outputs": [],
   "source": [
    "import geopandas as gp\n",
    "\n",
    "db=gp.read_file('india subdists 2001.shp')\n",
    "db1=db[['ID_', 'NAME1_', 'NAME2_','geometry']]\n",
    "db2=gp.GeoDataFrame(db1)\n",
    "db2.to_file('India_admin3_2011.geojson', driver=\"GeoJSON\")"
   ]
  },
  {
   "cell_type": "markdown",
   "metadata": {},
   "source": [
    "# India Admin3 2011\n",
    "\n",
    "1. The Atlas of India 2011 pdf provided by Census of India http://censusindia.gov.in/2011census/maps/administrative_maps/Final%20Atlas%20India%202011.pdf is having taluk maps of 35 states. The pdf pages of taluk map is embedded with Scalable vector graphics and it is possible to convert those svg into geospatial vector formats. \n",
    "1. Following codes work through the setps to convert the pdf taluk map pages into svg and then into geospatial vector formats such as geojson.\n",
    "1. The individual taulk map pdf pages were printed into seperate pdf files using print option in pdf reader in an Ubuntu system\n",
    "1. The individual pages were then converted into svg by using inkscape command line using the following programme in Python"
   ]
  },
  {
   "cell_type": "markdown",
   "metadata": {},
   "source": [
    "## Pdf into svg"
   ]
  },
  {
   "cell_type": "code",
   "execution_count": null,
   "metadata": {
    "collapsed": true
   },
   "outputs": [],
   "source": [
    "import os\n",
    "import glob\n",
    "import ntpath\n",
    "\n",
    "pdffiles=glob.glob('*.pdf')\n",
    "\n",
    "def path_leaf(path):\n",
    "    head, tail = ntpath.split(path)\n",
    "    return tail or ntpath.basename(head)\n",
    "\n",
    "\n",
    "for pdfs in pdffiles:\n",
    "    filename=(path_leaf(pdfs)).split('.')[0]\n",
    "    os.system(\"inkscape \"+pdfs+\" --export-plain-svg=\"+filename+\".svg\")"
   ]
  },
  {
   "cell_type": "markdown",
   "metadata": {},
   "source": [
    "## SVG into geojson linestrings\n",
    "\n",
    "1. The svg vectors from pdf files are having line vectors for taluk boundary maping for most of the states, the polygon vectors are mostly avaiable as District boundaries except in the states such as TN.\n",
    "1. To avoid the letters and other than boudary vector feautres in svg and collect only the line features corresponding the taluk boudaries, a Python library named [svgpathtools](https://github.com/mathandy/svgpathtools) were used. \n",
    "1. However main version of this lirary has issue in not respecting the position of multiple vectors as described in this [issue](https://github.com/mathandy/svgpathtools/issues/16), this issue was solved by using the fork of the [library](https://github.com/alphanoob1337/svgpathtools), the main file of the lirbary was imported for carry out the parsing of svg files."
   ]
  },
  {
   "cell_type": "markdown",
   "metadata": {},
   "source": [
    "### for state with censuscode 9"
   ]
  },
  {
   "cell_type": "code",
   "execution_count": null,
   "metadata": {
    "collapsed": true
   },
   "outputs": [],
   "source": [
    "from svg2paths1 import *\n",
    "import pandas as pd\n",
    "from shapely.geometry import LineString\n",
    "import numpy as np\n",
    "import geopandas as gp\n",
    "from shapely.affinity import scale\n",
    "\n",
    "\n",
    "paths, attributes = svg2paths('9.svg')\n",
    "\n",
    "\n",
    "poly3=[]\n",
    "for idx,path in enumerate(paths):\n",
    "    if path.iscontinuous():\n",
    "        aa=path.d()\n",
    "        result=aa.split(' ')\n",
    "        xx=[]\n",
    "        yy=[]\n",
    "        for res in result:\n",
    "            res1=res.split(',')\n",
    "            if len(res1) <2:\n",
    "                pass\n",
    "            else:\n",
    "                xx.append(float(res1[0]))\n",
    "                yy.append(float(res1[1]))\n",
    "        poly1=LineString(zip(xx,yy))\n",
    "        poly2 = scale(poly1, xfact = 1,yfact = -1, origin = (1, 0))\n",
    "        poly3.append(poly2)\n",
    "    else:\n",
    "        pass\n"
   ]
  },
  {
   "cell_type": "code",
   "execution_count": null,
   "metadata": {
    "collapsed": true
   },
   "outputs": [],
   "source": [
    "wer=pd.DataFrame()\n",
    "wer['geometry']=poly3[0:1000]\n",
    "wer['index']=np.arange(0,len(wer))\n",
    "wer1=gp.GeoDataFrame(wer)\n",
    "wer1.to_file('11.geojson', driver=\"GeoJSON\")"
   ]
  },
  {
   "cell_type": "markdown",
   "metadata": {},
   "source": [
    "1. to view and remove the unwanted svg vectors from the geojson converted linestrings such as name, place points etc\n"
   ]
  },
  {
   "cell_type": "code",
   "execution_count": null,
   "metadata": {
    "collapsed": true
   },
   "outputs": [],
   "source": [
    "%matplotlib inline\n",
    "import matplotlib.pyplot as plt\n",
    "plt.rcParams[\"figure.figsize\"] =(12,9)\n",
    "wer1.plot()"
   ]
  },
  {
   "cell_type": "markdown",
   "metadata": {},
   "source": [
    "### for state with censuscode 10"
   ]
  },
  {
   "cell_type": "code",
   "execution_count": null,
   "metadata": {
    "collapsed": true
   },
   "outputs": [],
   "source": [
    "paths, attributes = svg2paths('10.svg')\n",
    "\n",
    "poly3=[]\n",
    "\n",
    "for idx,path in enumerate(paths):\n",
    "    if path.iscontinuous():\n",
    "        aa=path.d()\n",
    "        result=aa.split(' ')\n",
    "        xx=[]\n",
    "        yy=[]\n",
    "        for res in result:\n",
    "            res1=res.split(',')\n",
    "            if len(res1) <2:\n",
    "                pass\n",
    "            else:\n",
    "                xx.append(float(res1[0]))\n",
    "                yy.append(float(res1[1]))\n",
    "        poly1=LineString(zip(xx,yy))\n",
    "        poly2 = scale(poly1, xfact = 1,yfact = -1, origin = (1, 0))\n",
    "        poly3.append(poly2)\n",
    "    else:\n",
    "        pass\n",
    "    \n",
    "wer=pd.DataFrame()\n",
    "wer['geometry']=poly3[330:2058]\n",
    "wer['index']=np.arange(0,len(wer))\n",
    "wer1=gp.GeoDataFrame(wer)\n",
    "wer1.to_file('10.geojson', driver=\"GeoJSON\")"
   ]
  },
  {
   "cell_type": "markdown",
   "metadata": {},
   "source": [
    "### for state with censuscode 11"
   ]
  },
  {
   "cell_type": "code",
   "execution_count": null,
   "metadata": {
    "collapsed": true
   },
   "outputs": [],
   "source": [
    "paths, attributes = svg2paths('11.svg')\n",
    "\n",
    "poly3=[]\n",
    "\n",
    "for idx,path in enumerate(paths):\n",
    "    if path.iscontinuous():\n",
    "        aa=path.d()\n",
    "        result=aa.split(' ')\n",
    "        xx=[]\n",
    "        yy=[]\n",
    "        for res in result:\n",
    "            res1=res.split(',')\n",
    "            if len(res1) <2:\n",
    "                pass\n",
    "            else:\n",
    "                xx.append(float(res1[0]))\n",
    "                yy.append(float(res1[1]))\n",
    "        poly1=LineString(zip(xx,yy))\n",
    "        poly2 = scale(poly1, xfact = 1,yfact = -1, origin = (1, 0))\n",
    "        poly3.append(poly2)\n",
    "    else:\n",
    "        pass\n",
    "    \n",
    "wer=pd.DataFrame()\n",
    "wer['geometry']=poly3[9:43]\n",
    "wer['index']=np.arange(0,len(wer))\n",
    "wer1=gp.GeoDataFrame(wer)\n",
    "wer1.to_file('11.geojson', driver=\"GeoJSON\")"
   ]
  },
  {
   "cell_type": "markdown",
   "metadata": {},
   "source": [
    "### for state with censuscode 12"
   ]
  },
  {
   "cell_type": "code",
   "execution_count": null,
   "metadata": {
    "collapsed": true
   },
   "outputs": [],
   "source": [
    "paths, attributes = svg2paths('12.svg')\n",
    "\n",
    "poly3=[]\n",
    "\n",
    "for idx,path in enumerate(paths):\n",
    "    if path.iscontinuous():\n",
    "        aa=path.d()\n",
    "        result=aa.split(' ')\n",
    "        xx=[]\n",
    "        yy=[]\n",
    "        for res in result:\n",
    "            res1=res.split(',')\n",
    "            if len(res1) <2:\n",
    "                pass\n",
    "            else:\n",
    "                xx.append(float(res1[0]))\n",
    "                yy.append(float(res1[1]))\n",
    "        poly1=LineString(zip(xx,yy))\n",
    "        poly2 = scale(poly1, xfact = 1,yfact = -1, origin = (1, 0))\n",
    "        poly3.append(poly2)\n",
    "    else:\n",
    "        pass\n",
    "    \n",
    "wer=pd.DataFrame()\n",
    "wer['geometry']=poly3[9:661]\n",
    "wer['index']=np.arange(0,len(wer))\n",
    "wer1=gp.GeoDataFrame(wer)\n",
    "wer1.to_file('12.geojson', driver=\"GeoJSON\")"
   ]
  },
  {
   "cell_type": "markdown",
   "metadata": {},
   "source": [
    "### for state with censuscode 13"
   ]
  },
  {
   "cell_type": "code",
   "execution_count": null,
   "metadata": {
    "collapsed": true
   },
   "outputs": [],
   "source": [
    "paths, attributes = svg2paths('13.svg')\n",
    "\n",
    "poly3=[]\n",
    "\n",
    "for idx,path in enumerate(paths):\n",
    "    if path.iscontinuous():\n",
    "        aa=path.d()\n",
    "        result=aa.split(' ')\n",
    "        xx=[]\n",
    "        yy=[]\n",
    "        for res in result:\n",
    "            res1=res.split(',')\n",
    "            if len(res1) <2:\n",
    "                pass\n",
    "            else:\n",
    "                xx.append(float(res1[0]))\n",
    "                yy.append(float(res1[1]))\n",
    "        poly1=LineString(zip(xx,yy))\n",
    "        poly2 = scale(poly1, xfact = 1,yfact = -1, origin = (1, 0))\n",
    "        poly3.append(poly2)\n",
    "    else:\n",
    "        pass\n",
    "    \n",
    "wer=pd.DataFrame()\n",
    "wer['geometry']=poly3[9:316]\n",
    "wer['index']=np.arange(0,len(wer))\n",
    "wer1=gp.GeoDataFrame(wer)\n",
    "wer1.to_file('13.geojson', driver=\"GeoJSON\")"
   ]
  },
  {
   "cell_type": "markdown",
   "metadata": {},
   "source": [
    "### for state with censuscode 14"
   ]
  },
  {
   "cell_type": "code",
   "execution_count": null,
   "metadata": {
    "collapsed": true
   },
   "outputs": [],
   "source": [
    "paths, attributes = svg2paths('14.svg')\n",
    "\n",
    "poly3=[]\n",
    "\n",
    "for idx,path in enumerate(paths):\n",
    "    if path.iscontinuous():\n",
    "        aa=path.d()\n",
    "        result=aa.split(' ')\n",
    "        xx=[]\n",
    "        yy=[]\n",
    "        for res in result:\n",
    "            res1=res.split(',')\n",
    "            if len(res1) <2:\n",
    "                pass\n",
    "            else:\n",
    "                xx.append(float(res1[0]))\n",
    "                yy.append(float(res1[1]))\n",
    "        poly1=LineString(zip(xx,yy))\n",
    "        poly2 = scale(poly1, xfact = 1,yfact = -1, origin = (1, 0))\n",
    "        poly3.append(poly2)\n",
    "    else:\n",
    "        pass\n",
    "    \n",
    "wer=pd.DataFrame()\n",
    "wer['geometry']=poly3[63:232]\n",
    "wer['index']=np.arange(0,len(wer))\n",
    "wer1=gp.GeoDataFrame(wer)\n",
    "wer1.to_file('14.geojson', driver=\"GeoJSON\")"
   ]
  },
  {
   "cell_type": "markdown",
   "metadata": {},
   "source": [
    "### for state with censuscode 15"
   ]
  },
  {
   "cell_type": "code",
   "execution_count": null,
   "metadata": {
    "collapsed": true
   },
   "outputs": [],
   "source": [
    "paths, attributes = svg2paths('15.svg')\n",
    "\n",
    "poly3=[]\n",
    "\n",
    "for idx,path in enumerate(paths):\n",
    "    if path.iscontinuous():\n",
    "        aa=path.d()\n",
    "        result=aa.split(' ')\n",
    "        xx=[]\n",
    "        yy=[]\n",
    "        for res in result:\n",
    "            res1=res.split(',')\n",
    "            if len(res1) <2:\n",
    "                pass\n",
    "            else:\n",
    "                xx.append(float(res1[0]))\n",
    "                yy.append(float(res1[1]))\n",
    "        poly1=LineString(zip(xx,yy))\n",
    "        poly2 = scale(poly1, xfact = 1,yfact = -1, origin = (1, 0))\n",
    "        poly3.append(poly2)\n",
    "    else:\n",
    "        pass\n",
    "    \n",
    "wer=pd.DataFrame()\n",
    "wer['geometry']=poly3[23:135]\n",
    "wer['index']=np.arange(0,len(wer))\n",
    "wer1=gp.GeoDataFrame(wer)\n",
    "wer1.to_file('15.geojson', driver=\"GeoJSON\")"
   ]
  },
  {
   "cell_type": "markdown",
   "metadata": {},
   "source": [
    "### for state with censuscode 16"
   ]
  },
  {
   "cell_type": "code",
   "execution_count": null,
   "metadata": {
    "collapsed": true
   },
   "outputs": [],
   "source": [
    "paths, attributes = svg2paths('16.svg')\n",
    "\n",
    "poly3=[]\n",
    "\n",
    "for idx,path in enumerate(paths):\n",
    "    if path.iscontinuous():\n",
    "        aa=path.d()\n",
    "        result=aa.split(' ')\n",
    "        xx=[]\n",
    "        yy=[]\n",
    "        for res in result:\n",
    "            res1=res.split(',')\n",
    "            if len(res1) <2:\n",
    "                pass\n",
    "            else:\n",
    "                xx.append(float(res1[0]))\n",
    "                yy.append(float(res1[1]))\n",
    "        poly1=LineString(zip(xx,yy))\n",
    "        poly2 = scale(poly1, xfact = 1,yfact = -1, origin = (1, 0))\n",
    "        poly3.append(poly2)\n",
    "    else:\n",
    "        pass\n",
    "    \n",
    "wer=pd.DataFrame()\n",
    "wer['geometry']=poly3[23:145]\n",
    "wer['index']=np.arange(0,len(wer))\n",
    "wer1=gp.GeoDataFrame(wer)\n",
    "wer1.to_file('16.geojson', driver=\"GeoJSON\")"
   ]
  },
  {
   "cell_type": "markdown",
   "metadata": {},
   "source": [
    "### for state with censuscode 17"
   ]
  },
  {
   "cell_type": "code",
   "execution_count": null,
   "metadata": {
    "collapsed": true
   },
   "outputs": [],
   "source": [
    "paths, attributes = svg2paths('17.svg')\n",
    "\n",
    "poly3=[]\n",
    "\n",
    "for idx,path in enumerate(paths):\n",
    "    if path.iscontinuous():\n",
    "        aa=path.d()\n",
    "        result=aa.split(' ')\n",
    "        xx=[]\n",
    "        yy=[]\n",
    "        for res in result:\n",
    "            res1=res.split(',')\n",
    "            if len(res1) <2:\n",
    "                pass\n",
    "            else:\n",
    "                xx.append(float(res1[0]))\n",
    "                yy.append(float(res1[1]))\n",
    "        poly1=LineString(zip(xx,yy))\n",
    "        poly2 = scale(poly1, xfact = 1,yfact = -1, origin = (1, 0))\n",
    "        poly3.append(poly2)\n",
    "    else:\n",
    "        pass\n",
    "    \n",
    "wer=pd.DataFrame()\n",
    "wer['geometry']=poly3[13:149]\n",
    "wer['index']=np.arange(0,len(wer))\n",
    "wer1=gp.GeoDataFrame(wer)\n",
    "wer1.to_file('17.geojson', driver=\"GeoJSON\")"
   ]
  },
  {
   "cell_type": "markdown",
   "metadata": {},
   "source": [
    "### for state with censuscode 18"
   ]
  },
  {
   "cell_type": "code",
   "execution_count": null,
   "metadata": {
    "collapsed": true
   },
   "outputs": [],
   "source": [
    "paths, attributes = svg2paths('18.svg')\n",
    "\n",
    "poly3=[]\n",
    "\n",
    "for idx,path in enumerate(paths):\n",
    "    if path.iscontinuous():\n",
    "        aa=path.d()\n",
    "        result=aa.split(' ')\n",
    "        xx=[]\n",
    "        yy=[]\n",
    "        for res in result:\n",
    "            res1=res.split(',')\n",
    "            if len(res1) <2:\n",
    "                pass\n",
    "            else:\n",
    "                xx.append(float(res1[0]))\n",
    "                yy.append(float(res1[1]))\n",
    "        poly1=LineString(zip(xx,yy))\n",
    "        poly2 = scale(poly1, xfact = 1,yfact = -1, origin = (1, 0))\n",
    "        poly3.append(poly2)\n",
    "    else:\n",
    "        pass\n",
    "    \n",
    "wer=pd.DataFrame()\n",
    "wer['geometry']=poly3[13:676]\n",
    "wer['index']=np.arange(0,len(wer))\n",
    "wer1=gp.GeoDataFrame(wer)\n",
    "wer1.to_file('18.geojson', driver=\"GeoJSON\")"
   ]
  },
  {
   "cell_type": "markdown",
   "metadata": {},
   "source": [
    "### for state with censuscode 19"
   ]
  },
  {
   "cell_type": "code",
   "execution_count": null,
   "metadata": {
    "collapsed": true
   },
   "outputs": [],
   "source": [
    "paths, attributes = svg2paths('19.svg')\n",
    "\n",
    "poly3=[]\n",
    "\n",
    "for idx,path in enumerate(paths):\n",
    "    if path.iscontinuous():\n",
    "        aa=path.d()\n",
    "        result=aa.split(' ')\n",
    "        xx=[]\n",
    "        yy=[]\n",
    "        for res in result:\n",
    "            res1=res.split(',')\n",
    "            if len(res1) <2:\n",
    "                pass\n",
    "            else:\n",
    "                xx.append(float(res1[0]))\n",
    "                yy.append(float(res1[1]))\n",
    "        poly1=LineString(zip(xx,yy))\n",
    "        poly2 = scale(poly1, xfact = 1,yfact = -1, origin = (1, 0))\n",
    "        poly3.append(poly2)\n",
    "    else:\n",
    "        pass\n",
    "    \n",
    "wer=pd.DataFrame()\n",
    "wer['geometry']=poly3[832:2193]\n",
    "wer['index']=np.arange(0,len(wer))\n",
    "wer1=gp.GeoDataFrame(wer)\n",
    "wer1.to_file('19.geojson', driver=\"GeoJSON\")"
   ]
  },
  {
   "cell_type": "markdown",
   "metadata": {},
   "source": [
    "### for state with censuscode 20"
   ]
  },
  {
   "cell_type": "code",
   "execution_count": null,
   "metadata": {
    "collapsed": true
   },
   "outputs": [],
   "source": [
    "paths, attributes = svg2paths('20.svg')\n",
    "\n",
    "poly3=[]\n",
    "\n",
    "for idx,path in enumerate(paths):\n",
    "    if path.iscontinuous():\n",
    "        aa=path.d()\n",
    "        result=aa.split(' ')\n",
    "        xx=[]\n",
    "        yy=[]\n",
    "        for res in result:\n",
    "            res1=res.split(',')\n",
    "            if len(res1) <2:\n",
    "                pass\n",
    "            else:\n",
    "                xx.append(float(res1[0]))\n",
    "                yy.append(float(res1[1]))\n",
    "        poly1=LineString(zip(xx,yy))\n",
    "        poly2 = scale(poly1, xfact = 1,yfact = -1, origin = (1, 0))\n",
    "        poly3.append(poly2)\n",
    "    else:\n",
    "        pass\n",
    "    \n",
    "wer=pd.DataFrame()\n",
    "wer['geometry']=poly3[5:661]\n",
    "wer['index']=np.arange(0,len(wer))\n",
    "wer1=gp.GeoDataFrame(wer)\n",
    "wer1.to_file('20.geojson', driver=\"GeoJSON\")"
   ]
  },
  {
   "cell_type": "markdown",
   "metadata": {},
   "source": [
    "### for state with censuscode 21"
   ]
  },
  {
   "cell_type": "code",
   "execution_count": null,
   "metadata": {
    "collapsed": true
   },
   "outputs": [],
   "source": [
    "paths, attributes = svg2paths('21.svg')\n",
    "\n",
    "poly3=[]\n",
    "\n",
    "for idx,path in enumerate(paths):\n",
    "    if path.iscontinuous():\n",
    "        aa=path.d()\n",
    "        result=aa.split(' ')\n",
    "        xx=[]\n",
    "        yy=[]\n",
    "        for res in result:\n",
    "            res1=res.split(',')\n",
    "            if len(res1) <2:\n",
    "                pass\n",
    "            else:\n",
    "                xx.append(float(res1[0]))\n",
    "                yy.append(float(res1[1]))\n",
    "        poly1=LineString(zip(xx,yy))\n",
    "        poly2 = scale(poly1, xfact = 1,yfact = -1, origin = (1, 0))\n",
    "        poly3.append(poly2)\n",
    "    else:\n",
    "        pass\n",
    "    \n",
    "wer=pd.DataFrame()\n",
    "wer['geometry']=poly3[497:2724]\n",
    "wer['index']=np.arange(0,len(wer))\n",
    "wer1=gp.GeoDataFrame(wer)\n",
    "wer1.to_file('21.geojson', driver=\"GeoJSON\")"
   ]
  },
  {
   "cell_type": "markdown",
   "metadata": {},
   "source": [
    "### for state with censuscode 22"
   ]
  },
  {
   "cell_type": "code",
   "execution_count": null,
   "metadata": {
    "collapsed": true
   },
   "outputs": [],
   "source": [
    "paths, attributes = svg2paths('22.svg')\n",
    "\n",
    "poly3=[]\n",
    "\n",
    "for idx,path in enumerate(paths):\n",
    "    if path.iscontinuous():\n",
    "        aa=path.d()\n",
    "        result=aa.split(' ')\n",
    "        xx=[]\n",
    "        yy=[]\n",
    "        for res in result:\n",
    "            res1=res.split(',')\n",
    "            if len(res1) <2:\n",
    "                pass\n",
    "            else:\n",
    "                xx.append(float(res1[0]))\n",
    "                yy.append(float(res1[1]))\n",
    "        poly1=LineString(zip(xx,yy))\n",
    "        poly2 = scale(poly1, xfact = 1,yfact = -1, origin = (1, 0))\n",
    "        poly3.append(poly2)\n",
    "    else:\n",
    "        pass\n",
    "    \n",
    "wer=pd.DataFrame()\n",
    "wer['geometry']=poly3[56:357]\n",
    "wer['index']=np.arange(0,len(wer))\n",
    "wer1=gp.GeoDataFrame(wer)\n",
    "wer1.to_file('22.geojson', driver=\"GeoJSON\")"
   ]
  },
  {
   "cell_type": "markdown",
   "metadata": {},
   "source": [
    "### for state with censuscode 23"
   ]
  },
  {
   "cell_type": "code",
   "execution_count": null,
   "metadata": {
    "collapsed": true
   },
   "outputs": [],
   "source": [
    "paths, attributes = svg2paths('23.svg')\n",
    "\n",
    "poly3=[]\n",
    "\n",
    "for idx,path in enumerate(paths):\n",
    "    if path.iscontinuous():\n",
    "        aa=path.d()\n",
    "        result=aa.split(' ')\n",
    "        xx=[]\n",
    "        yy=[]\n",
    "        for res in result:\n",
    "            res1=res.split(',')\n",
    "            if len(res1) <2:\n",
    "                pass\n",
    "            else:\n",
    "                xx.append(float(res1[0]))c\n",
    "                yy.append(float(res1[1]))\n",
    "        poly1=LineString(zip(xx,yy))\n",
    "        poly2 = scale(poly1, xfact = 1,yfact = -1, origin = (1, 0))\n",
    "        poly3.append(poly2)\n",
    "    else:\n",
    "        pass\n",
    "    \n",
    "wer=pd.DataFrame()\n",
    "wer['geometry']=poly3[48:1396]\n",
    "wer['index']=np.arange(0,len(wer))\n",
    "wer1=gp.GeoDataFrame(wer)\n",
    "wer1.to_file('23.geojson', driver=\"GeoJSON\")"
   ]
  },
  {
   "cell_type": "markdown",
   "metadata": {},
   "source": [
    "### for state with censuscode 24"
   ]
  },
  {
   "cell_type": "code",
   "execution_count": null,
   "metadata": {
    "collapsed": true
   },
   "outputs": [],
   "source": [
    "paths, attributes = svg2paths('24.svg')\n",
    "\n",
    "poly3=[]\n",
    "\n",
    "for idx,path in enumerate(paths):\n",
    "    if path.iscontinuous():\n",
    "        aa=path.d()\n",
    "        result=aa.split(' ')\n",
    "        xx=[]\n",
    "        yy=[]\n",
    "        for res in result:\n",
    "            res1=res.split(',')\n",
    "            if len(res1) <2:\n",
    "                pass\n",
    "            else:\n",
    "                xx.append(float(res1[0]))c\n",
    "                yy.append(float(res1[1]))\n",
    "        poly1=LineString(zip(xx,yy))\n",
    "        poly2 = scale(poly1, xfact = 1,yfact = -1, origin = (1, 0))\n",
    "        poly3.append(poly2)\n",
    "    else:\n",
    "        pass\n",
    "    \n",
    "wer=pd.DataFrame()\n",
    "wer['geometry']=poly3[48:11640]\n",
    "wer['index']=np.arange(0,len(wer))\n",
    "wer1=gp.GeoDataFrame(wer)\n",
    "wer1.to_file('24.geojson', driver=\"GeoJSON\")"
   ]
  },
  {
   "cell_type": "markdown",
   "metadata": {},
   "source": [
    "### for state with censuscode 25"
   ]
  },
  {
   "cell_type": "code",
   "execution_count": null,
   "metadata": {
    "collapsed": true
   },
   "outputs": [],
   "source": [
    "paths, attributes = svg2paths('25.svg')\n",
    "\n",
    "poly3=[]\n",
    "\n",
    "for idx,path in enumerate(paths):\n",
    "    if path.iscontinuous():\n",
    "        aa=path.d()\n",
    "        result=aa.split(' ')\n",
    "        xx=[]\n",
    "        yy=[]\n",
    "        for res in result:\n",
    "            res1=res.split(',')\n",
    "            if len(res1) <2:\n",
    "                pass\n",
    "            else:\n",
    "                xx.append(float(res1[0]))c\n",
    "                yy.append(float(res1[1]))\n",
    "        poly1=LineString(zip(xx,yy))\n",
    "        poly2 = scale(poly1, xfact = 1,yfact = -1, origin = (1, 0))\n",
    "        poly3.append(poly2)\n",
    "    else:\n",
    "        pass\n",
    "    \n",
    "wer=pd.DataFrame()\n",
    "wer['geometry']=poly3[2750:2830]\n",
    "wer['index']=np.arange(0,len(wer))\n",
    "wer1=gp.GeoDataFrame(wer)\n",
    "wer1.to_file('25.geojson', driver=\"GeoJSON\")"
   ]
  },
  {
   "cell_type": "markdown",
   "metadata": {},
   "source": [
    "### for state with censuscode 26"
   ]
  },
  {
   "cell_type": "code",
   "execution_count": null,
   "metadata": {
    "collapsed": true
   },
   "outputs": [],
   "source": [
    "paths, attributes = svg2paths('26.svg')\n",
    "\n",
    "poly3=[]\n",
    "\n",
    "for idx,path in enumerate(paths):\n",
    "    if path.iscontinuous():\n",
    "        aa=path.d()\n",
    "        result=aa.split(' ')\n",
    "        xx=[]\n",
    "        yy=[]\n",
    "        for res in result:\n",
    "            res1=res.split(',')\n",
    "            if len(res1) <2:\n",
    "                pass\n",
    "            else:\n",
    "                xx.append(float(res1[0]))c\n",
    "                yy.append(float(res1[1]))\n",
    "        poly1=LineString(zip(xx,yy))\n",
    "        poly2 = scale(poly1, xfact = 1,yfact = -1, origin = (1, 0))\n",
    "        poly3.append(poly2)\n",
    "    else:\n",
    "        pass\n",
    "    \n",
    "wer=pd.DataFrame()\n",
    "wer['geometry']=poly3[10:285]\n",
    "wer['index']=np.arange(0,len(wer))\n",
    "wer1=gp.GeoDataFrame(wer)\n",
    "wer1.to_file('26.geojson', driver=\"GeoJSON\")"
   ]
  },
  {
   "cell_type": "markdown",
   "metadata": {},
   "source": [
    "### for state with censuscode 27"
   ]
  },
  {
   "cell_type": "code",
   "execution_count": null,
   "metadata": {
    "collapsed": true
   },
   "outputs": [],
   "source": [
    "paths, attributes = svg2paths('27.svg')\n",
    "\n",
    "poly3=[]\n",
    "\n",
    "for idx,path in enumerate(paths):\n",
    "    if path.iscontinuous():\n",
    "        aa=path.d()\n",
    "        result=aa.split(' ')\n",
    "        xx=[]\n",
    "        yy=[]\n",
    "        for res in result:\n",
    "            res1=res.split(',')\n",
    "            if len(res1) <2:\n",
    "                pass\n",
    "            else:\n",
    "                xx.append(float(res1[0]))c\n",
    "                yy.append(float(res1[1]))\n",
    "        poly1=LineString(zip(xx,yy))\n",
    "        poly2 = scale(poly1, xfact = 1,yfact = -1, origin = (1, 0))\n",
    "        poly3.append(poly2)\n",
    "    else:\n",
    "        pass\n",
    "    \n",
    "wer=pd.DataFrame()\n",
    "wer['geometry']=poly3[370:1501]\n",
    "wer['index']=np.arange(0,len(wer))\n",
    "wer1=gp.GeoDataFrame(wer)\n",
    "wer1.to_file('27.geojson', driver=\"GeoJSON\")"
   ]
  },
  {
   "cell_type": "markdown",
   "metadata": {},
   "source": [
    "### for state with censuscode 28"
   ]
  },
  {
   "cell_type": "code",
   "execution_count": null,
   "metadata": {
    "collapsed": true
   },
   "outputs": [],
   "source": [
    "paths, attributes = svg2paths('28.svg')\n",
    "\n",
    "poly3=[]\n",
    "\n",
    "for idx,path in enumerate(paths):\n",
    "    if path.iscontinuous():\n",
    "        aa=path.d()\n",
    "        result=aa.split(' ')\n",
    "        xx=[]\n",
    "        yy=[]\n",
    "        for res in result:\n",
    "            res1=res.split(',')\n",
    "            if len(res1) <2:\n",
    "                pass\n",
    "            else:\n",
    "                xx.append(float(res1[0]))c\n",
    "                yy.append(float(res1[1]))\n",
    "        poly1=LineString(zip(xx,yy))\n",
    "        poly2 = scale(poly1, xfact = 1,yfact = -1, origin = (1, 0))\n",
    "        poly3.append(poly2)\n",
    "    else:\n",
    "        pass\n",
    "    \n",
    "wer=pd.DataFrame()\n",
    "wer['geometry']=poly3[353:3511]\n",
    "wer['index']=np.arange(0,len(wer))\n",
    "wer1=gp.GeoDataFrame(wer)\n",
    "wer1.to_file('28.geojson', driver=\"GeoJSON\")"
   ]
  },
  {
   "cell_type": "markdown",
   "metadata": {},
   "source": [
    "### for state with censuscode 29"
   ]
  },
  {
   "cell_type": "code",
   "execution_count": null,
   "metadata": {
    "collapsed": true
   },
   "outputs": [],
   "source": [
    "paths, attributes = svg2paths('29.svg')\n",
    "\n",
    "poly3=[]\n",
    "\n",
    "for idx,path in enumerate(paths):\n",
    "    if path.iscontinuous():\n",
    "        aa=path.d()\n",
    "        result=aa.split(' ')\n",
    "        xx=[]\n",
    "        yy=[]\n",
    "        for res in result:\n",
    "            res1=res.split(',')\n",
    "            if len(res1) <2:\n",
    "                pass\n",
    "            else:\n",
    "                xx.append(float(res1[0]))c\n",
    "                yy.append(float(res1[1]))\n",
    "        poly1=LineString(zip(xx,yy))\n",
    "        poly2 = scale(poly1, xfact = 1,yfact = -1, origin = (1, 0))\n",
    "        poly3.append(poly2)\n",
    "    else:\n",
    "        pass\n",
    "    \n",
    "wer=pd.DataFrame()\n",
    "wer['geometry']=poly3[5:567]\n",
    "wer['index']=np.arange(0,len(wer))\n",
    "wer1=gp.GeoDataFrame(wer)\n",
    "wer1.to_file('29.geojson', driver=\"GeoJSON\")"
   ]
  },
  {
   "cell_type": "markdown",
   "metadata": {},
   "source": [
    "### for state with censuscode 30"
   ]
  },
  {
   "cell_type": "code",
   "execution_count": null,
   "metadata": {
    "collapsed": true
   },
   "outputs": [],
   "source": [
    "paths, attributes = svg2paths('30.svg')\n",
    "\n",
    "poly3=[]\n",
    "\n",
    "for idx,path in enumerate(paths):\n",
    "    if path.iscontinuous():\n",
    "        aa=path.d()\n",
    "        result=aa.split(' ')\n",
    "        xx=[]\n",
    "        yy=[]\n",
    "        for res in result:\n",
    "            res1=res.split(',')\n",
    "            if len(res1) <2:\n",
    "                pass\n",
    "            else:\n",
    "                xx.append(float(res1[0]))c\n",
    "                yy.append(float(res1[1]))\n",
    "        poly1=LineString(zip(xx,yy))\n",
    "        poly2 = scale(poly1, xfact = 1,yfact = -1, origin = (1, 0))\n",
    "        poly3.append(poly2)\n",
    "    else:\n",
    "        pass\n",
    "    \n",
    "wer=pd.DataFrame()\n",
    "wer['geometry']=poly3[5:236]\n",
    "wer['index']=np.arange(0,len(wer))\n",
    "wer1=gp.GeoDataFrame(wer)\n",
    "wer1.to_file('30.geojson', driver=\"GeoJSON\")"
   ]
  },
  {
   "cell_type": "markdown",
   "metadata": {},
   "source": [
    "### for state with censuscode 31"
   ]
  },
  {
   "cell_type": "code",
   "execution_count": null,
   "metadata": {
    "collapsed": true
   },
   "outputs": [],
   "source": [
    "paths, attributes = svg2paths('31.svg')\n",
    "\n",
    "poly3=[]\n",
    "\n",
    "for idx,path in enumerate(paths):\n",
    "    if path.iscontinuous():\n",
    "        aa=path.d()\n",
    "        result=aa.split(' ')\n",
    "        xx=[]\n",
    "        yy=[]\n",
    "        for res in result:\n",
    "            res1=res.split(',')\n",
    "            if len(res1) <2:\n",
    "                pass\n",
    "            else:\n",
    "                xx.append(float(res1[0]))c\n",
    "                yy.append(float(res1[1]))\n",
    "        poly1=LineString(zip(xx,yy))\n",
    "        poly2 = scale(poly1, xfact = 1,yfact = -1, origin = (1, 0))\n",
    "        poly3.append(poly2)\n",
    "    else:\n",
    "        pass\n",
    "    \n",
    "wer=pd.DataFrame()\n",
    "wer['geometry']=poly3[5:336]\n",
    "wer['index']=np.arange(0,len(wer))\n",
    "wer1=gp.GeoDataFrame(wer)\n",
    "wer1.to_file('31.geojson', driver=\"GeoJSON\")"
   ]
  },
  {
   "cell_type": "markdown",
   "metadata": {},
   "source": [
    "### for state with censuscode 32"
   ]
  },
  {
   "cell_type": "code",
   "execution_count": null,
   "metadata": {
    "collapsed": true
   },
   "outputs": [],
   "source": [
    "paths, attributes = svg2paths('32.svg')\n",
    "\n",
    "poly3=[]\n",
    "\n",
    "for idx,path in enumerate(paths):\n",
    "    if path.iscontinuous():\n",
    "        aa=path.d()\n",
    "        result=aa.split(' ')\n",
    "        xx=[]\n",
    "        yy=[]\n",
    "        for res in result:\n",
    "            res1=res.split(',')\n",
    "            if len(res1) <2:\n",
    "                pass\n",
    "            else:\n",
    "                xx.append(float(res1[0]))c\n",
    "                yy.append(float(res1[1]))\n",
    "        poly1=LineString(zip(xx,yy))\n",
    "        poly2 = scale(poly1, xfact = 1,yfact = -1, origin = (1, 0))\n",
    "        poly3.append(poly2)\n",
    "    else:\n",
    "        pass\n",
    "    \n",
    "wer=pd.DataFrame()\n",
    "wer['geometry']=poly3[5:270]\n",
    "wer['index']=np.arange(0,len(wer))\n",
    "wer1=gp.GeoDataFrame(wer)\n",
    "wer1.to_file('32.geojson', driver=\"GeoJSON\")"
   ]
  },
  {
   "cell_type": "markdown",
   "metadata": {},
   "source": [
    "### for state with censuscode 33"
   ]
  },
  {
   "cell_type": "code",
   "execution_count": null,
   "metadata": {
    "collapsed": true
   },
   "outputs": [],
   "source": [
    "paths, attributes = svg2paths('33.svg')\n",
    "\n",
    "poly3=[]\n",
    "\n",
    "for idx,path in enumerate(paths):\n",
    "    if path.iscontinuous():\n",
    "        aa=path.d()\n",
    "        result=aa.split(' ')\n",
    "        xx=[]\n",
    "        yy=[]\n",
    "        for res in result:\n",
    "            res1=res.split(',')\n",
    "            if len(res1) <2:\n",
    "                pass\n",
    "            else:\n",
    "                xx.append(float(res1[0]))c\n",
    "                yy.append(float(res1[1]))\n",
    "        poly1=LineString(zip(xx,yy))\n",
    "        poly2 = scale(poly1, xfact = 1,yfact = -1, origin = (1, 0))\n",
    "        poly3.append(poly2)\n",
    "    else:\n",
    "        pass\n",
    "    \n",
    "wer=pd.DataFrame()\n",
    "wer['geometry']=poly3[5:1210]\n",
    "wer['index']=np.arange(0,len(wer))\n",
    "wer1=gp.GeoDataFrame(wer)\n",
    "wer1.to_file('33.geojson', driver=\"GeoJSON\")"
   ]
  },
  {
   "cell_type": "markdown",
   "metadata": {},
   "source": [
    "### for state with censuscode 34"
   ]
  },
  {
   "cell_type": "code",
   "execution_count": null,
   "metadata": {
    "collapsed": true
   },
   "outputs": [],
   "source": [
    "paths, attributes = svg2paths('34.svg')\n",
    "\n",
    "poly3=[]\n",
    "\n",
    "for idx,path in enumerate(paths):\n",
    "    if path.iscontinuous():\n",
    "        aa=path.d()\n",
    "        result=aa.split(' ')\n",
    "        xx=[]\n",
    "        yy=[]\n",
    "        for res in result:\n",
    "            res1=res.split(',')\n",
    "            if len(res1) <2:\n",
    "                pass\n",
    "            else:\n",
    "                xx.append(float(res1[0]))c\n",
    "                yy.append(float(res1[1]))\n",
    "        poly1=LineString(zip(xx,yy))\n",
    "        poly2 = scale(poly1, xfact = 1,yfact = -1, origin = (1, 0))\n",
    "        poly3.append(poly2)\n",
    "    else:\n",
    "        pass\n",
    "    \n",
    "wer=pd.DataFrame()\n",
    "#for a\n",
    "#wer['geometry']=poly3[30:45]\n",
    "#for b\n",
    "#wer['geometry']=poly3[210:235]\n",
    "#for c\n",
    "#wer['geometry']=poly3[277:295]\n",
    "#for d\n",
    "wer['geometry']=poly3[359:365]\n",
    "wer['index']=np.arange(0,len(wer))\n",
    "wer1=gp.GeoDataFrame(wer)\n",
    "wer1.to_file('34d.geojson', driver=\"GeoJSON\")"
   ]
  },
  {
   "cell_type": "markdown",
   "metadata": {},
   "source": [
    "### for state with censuscode 1"
   ]
  },
  {
   "cell_type": "code",
   "execution_count": null,
   "metadata": {
    "collapsed": true
   },
   "outputs": [],
   "source": [
    "paths, attributes = svg2paths('1.svg')\n",
    "\n",
    "poly3=[]\n",
    "\n",
    "for idx,path in enumerate(paths):\n",
    "    if path.iscontinuous():\n",
    "        aa=path.d()\n",
    "        result=aa.split(' ')\n",
    "        xx=[]\n",
    "        yy=[]\n",
    "        for res in result:\n",
    "            res1=res.split(',')\n",
    "            if len(res1) <2:\n",
    "                pass\n",
    "            else:\n",
    "                xx.append(float(res1[0]))c\n",
    "                yy.append(float(res1[1]))\n",
    "        poly1=LineString(zip(xx,yy))\n",
    "        poly2 = scale(poly1, xfact = 1,yfact = -1, origin = (1, 0))\n",
    "        poly3.append(poly2)\n",
    "    else:\n",
    "        pass\n",
    "    \n",
    "wer=pd.DataFrame()\n",
    "wer['geometry']=poly3[53:250]\n",
    "wer['index']=np.arange(0,len(wer))\n",
    "wer1=gp.GeoDataFrame(wer)\n",
    "wer1.to_file('1.geojson', driver=\"GeoJSON\")"
   ]
  },
  {
   "cell_type": "markdown",
   "metadata": {},
   "source": [
    "### for state with censuscode 6"
   ]
  },
  {
   "cell_type": "code",
   "execution_count": null,
   "metadata": {
    "collapsed": true
   },
   "outputs": [],
   "source": [
    "paths, attributes = svg2paths('6.svg')\n",
    "\n",
    "poly3=[]\n",
    "\n",
    "for idx,path in enumerate(paths):\n",
    "    if path.iscontinuous():\n",
    "        aa=path.d()\n",
    "        result=aa.split(' ')\n",
    "        xx=[]\n",
    "        yy=[]\n",
    "        for res in result:\n",
    "            res1=res.split(',')\n",
    "            if len(res1) <2:\n",
    "                pass\n",
    "            else:\n",
    "                xx.append(float(res1[0]))c\n",
    "                yy.append(float(res1[1]))\n",
    "        poly1=LineString(zip(xx,yy))\n",
    "        poly2 = scale(poly1, xfact = 1,yfact = -1, origin = (1, 0))\n",
    "        poly3.append(poly2)\n",
    "    else:\n",
    "        pass\n",
    "    \n",
    "wer=pd.DataFrame()\n",
    "wer['geometry']=poly3[62:365]\n",
    "wer['index']=np.arange(0,len(wer))\n",
    "wer1=gp.GeoDataFrame(wer)\n",
    "wer1.to_file('6.geojson', driver=\"GeoJSON\")"
   ]
  },
  {
   "cell_type": "markdown",
   "metadata": {},
   "source": [
    "### for state with censuscode 7"
   ]
  },
  {
   "cell_type": "code",
   "execution_count": null,
   "metadata": {
    "collapsed": true
   },
   "outputs": [],
   "source": [
    "paths, attributes = svg2paths('7.svg')\n",
    "\n",
    "poly3=[]\n",
    "\n",
    "for idx,path in enumerate(paths):\n",
    "    if path.iscontinuous():\n",
    "        aa=path.d()\n",
    "        result=aa.split(' ')\n",
    "        xx=[]\n",
    "        yy=[]\n",
    "        for res in result:\n",
    "            res1=res.split(',')\n",
    "            if len(res1) <2:\n",
    "                pass\n",
    "            else:\n",
    "                xx.append(float(res1[0]))c\n",
    "                yy.append(float(res1[1]))\n",
    "        poly1=LineString(zip(xx,yy))\n",
    "        poly2 = scale(poly1, xfact = 1,yfact = -1, origin = (1, 0))\n",
    "        poly3.append(poly2)\n",
    "    else:\n",
    "        pass\n",
    "    \n",
    "wer=pd.DataFrame()\n",
    "wer['geometry']=poly3[10:304]\n",
    "wer['index']=np.arange(0,len(wer))\n",
    "wer1=gp.GeoDataFrame(wer)\n",
    "wer1.to_file('7.geojson', driver=\"GeoJSON\")"
   ]
  },
  {
   "cell_type": "markdown",
   "metadata": {},
   "source": [
    "### for state with censuscode 8"
   ]
  },
  {
   "cell_type": "code",
   "execution_count": null,
   "metadata": {
    "collapsed": true
   },
   "outputs": [],
   "source": [
    "paths, attributes = svg2paths('8.svg')\n",
    "\n",
    "poly3=[]\n",
    "\n",
    "for idx,path in enumerate(paths):\n",
    "    if path.iscontinuous():\n",
    "        aa=path.d()\n",
    "        result=aa.split(' ')\n",
    "        xx=[]\n",
    "        yy=[]\n",
    "        for res in result:\n",
    "            res1=res.split(',')\n",
    "            if len(res1) <2:\n",
    "                pass\n",
    "            else:\n",
    "                xx.append(float(res1[0]))c\n",
    "                yy.append(float(res1[1]))\n",
    "        poly1=LineString(zip(xx,yy))\n",
    "        poly2 = scale(poly1, xfact = 1,yfact = -1, origin = (1, 0))\n",
    "        poly3.append(poly2)\n",
    "    else:\n",
    "        pass\n",
    "    \n",
    "wer=pd.DataFrame()\n",
    "wer['geometry']=poly3[140:1140]\n",
    "wer['index']=np.arange(0,len(wer))\n",
    "wer1=gp.GeoDataFrame(wer)\n",
    "wer1.to_file('8.geojson', driver=\"GeoJSON\")"
   ]
  },
  {
   "cell_type": "markdown",
   "metadata": {},
   "source": [
    "1. For states 2-5, the svg files were opened in Inkscape GUI and made into layers of wanted taluk boundaries and unwanted other vectors. \n",
    "1. The taluk boundary vector layer was choosen and converted into dxf file formate, opened in QGIS and saved as geojson"
   ]
  },
  {
   "cell_type": "markdown",
   "metadata": {},
   "source": [
    "## convert the line vector geojson into polygons \n",
    "\n",
    "1. In shapely geomterical operations intersecting a polygon with any overlaying line vector generate polygon vectors, this can be named as ***cake cutting method*** was used for the polygon genration from line vector geojson files\n",
    "1. This method is not perfect and it either misses several polygons or invalid polygons\n",
    "1. The invalid polygons can be easily removed by checking its area "
   ]
  },
  {
   "cell_type": "code",
   "execution_count": null,
   "metadata": {
    "collapsed": true
   },
   "outputs": [],
   "source": [
    "from shapely.ops import polygonize_full\n",
    "import geopandas as gp\n",
    "from shapely.geometry import Polygon, mapping\n",
    "from shapely import geometry, ops\n",
    "import ntpath\n",
    "\n",
    "\n",
    "gefilelist=glob.glob('*.geojson')\n",
    "\n",
    "#mapping(db.iloc[0]['geometry'])['coordinates']\n",
    "\n",
    "def path_leaf(path):\n",
    "    head, tail = ntpath.split(path)\n",
    "    return tail or ntpath.basename(head)\n",
    "\n",
    "\n",
    "for geos in gefilelist:\n",
    "    filename=(path_leaf(pdfs)).split('.')[0]\n",
    "    db=gp.read_file(geos)\n",
    "    db_list=db['geometry'].tolist()\n",
    "    # clumb the line strings\n",
    "    multi_line = geometry.MultiLineString(db_list)\n",
    "    # to make the cake, the polygon/extent polygon of all the line strings\n",
    "    xcord=[]\n",
    "    ycord=[]\n",
    "    for idx, row in db.iterrows():\n",
    "        cordsi=mapping(row['geometry'])['coordinates']\n",
    "        for cord in cordsi:\n",
    "            xcord.append(cord[0])\n",
    "            ycord.append(cord[1])\n",
    "    xcord1 = np.array(xcord)\n",
    "    ycord1 = np.array(ycord)\n",
    "    x_min=xcord1.min()\n",
    "    y_min=ycord1.min()\n",
    "    x_max=xcord1.max()\n",
    "    y_max=ycord1.max()\n",
    "    extent =Polygon((((x_min,y_min), (x_max,y_min), (x_max,y_max), (x_min,y_max))))\n",
    "    # the cake cutting method\n",
    "    aa=multi_line.intersection(extent)\n",
    "    result, dangles, cuts, invalids = polygonize_full(aa)\n",
    "    erf=pd.DataFrame()\n",
    "    erf['geometry']=result\n",
    "    erf1=gp.GeoDataFrame(erf)\n",
    "    erf1[\"area\"] = erf1['geometry'].area\n",
    "    # to remove the invalid polygons generated\n",
    "    erf2=erf1.loc[erf1['area'] >= 5]\n",
    "    erf3=erf2.reset_index()\n",
    "    erf1.to_file('filename.geojson', driver=\"GeoJSON\")\n",
    "    #erf3.to_file('filename.shp', driver = 'ESRI Shapefile')\n",
    "    erf3.info()"
   ]
  },
  {
   "cell_type": "code",
   "execution_count": null,
   "metadata": {
    "collapsed": true
   },
   "outputs": [],
   "source": []
  }
 ],
 "metadata": {
  "kernelspec": {
   "display_name": "Python 2",
   "language": "python",
   "name": "python2"
  },
  "language_info": {
   "codemirror_mode": {
    "name": "ipython",
    "version": 2
   },
   "file_extension": ".py",
   "mimetype": "text/x-python",
   "name": "python",
   "nbconvert_exporter": "python",
   "pygments_lexer": "ipython2",
   "version": "2.7.14"
  },
  "latex_envs": {
   "LaTeX_envs_menu_present": true,
   "autocomplete": true,
   "bibliofile": "biblio.bib",
   "cite_by": "apalike",
   "current_citInitial": 1,
   "eqLabelWithNumbers": true,
   "eqNumInitial": 1,
   "hotkeys": {
    "equation": "Ctrl-E",
    "itemize": "Ctrl-I"
   },
   "labels_anchors": false,
   "latex_user_defs": false,
   "report_style_numbering": false,
   "user_envs_cfg": false
  },
  "toc": {
   "colors": {
    "hover_highlight": "#DAA520",
    "navigate_num": "#000000",
    "navigate_text": "#333333",
    "running_highlight": "#FF0000",
    "selected_highlight": "#FFD700",
    "sidebar_border": "#EEEEEE",
    "wrapper_background": "#FFFFFF"
   },
   "moveMenuLeft": true,
   "nav_menu": {
    "height": "59px",
    "width": "252px"
   },
   "navigate_menu": true,
   "number_sections": true,
   "sideBar": true,
   "threshold": 4,
   "toc_cell": true,
   "toc_position": {
    "height": "875px",
    "left": "0px",
    "right": "1563px",
    "top": "107px",
    "width": "292px"
   },
   "toc_section_display": "block",
   "toc_window_display": true,
   "widenNotebook": false
  }
 },
 "nbformat": 4,
 "nbformat_minor": 2
}
