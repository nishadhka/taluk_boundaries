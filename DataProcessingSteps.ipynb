{
 "cells": [
  {
   "cell_type": "markdown",
   "metadata": {
    "toc": "true"
   },
   "source": [
    "# Table of Contents\n",
    " <p><div class=\"lev1 toc-item\"><a href=\"#India-Admin3-1971\" data-toc-modified-id=\"India-Admin3-1971-1\"><span class=\"toc-item-num\">1&nbsp;&nbsp;</span>India Admin3 1971</a></div><div class=\"lev2 toc-item\"><a href=\"#Converting-the-INDIA_ADMIN_3_2739.shp-into-geojson\" data-toc-modified-id=\"Converting-the-INDIA_ADMIN_3_2739.shp-into-geojson-11\"><span class=\"toc-item-num\">1.1&nbsp;&nbsp;</span>Converting the INDIA_ADMIN_3_2739.shp into geojson</a></div><div class=\"lev1 toc-item\"><a href=\"#India-Admin3-2001\" data-toc-modified-id=\"India-Admin3-2001-2\"><span class=\"toc-item-num\">2&nbsp;&nbsp;</span>India Admin3 2001</a></div><div class=\"lev2 toc-item\"><a href=\"#adding-state-and-district-column,-as-per-census-of-India-2011\" data-toc-modified-id=\"adding-state-and-district-column,-as-per-census-of-India-2011-21\"><span class=\"toc-item-num\">2.1&nbsp;&nbsp;</span>adding state and district column, as per census of India 2011</a></div>"
   ]
  },
  {
   "cell_type": "markdown",
   "metadata": {},
   "source": [
    "# India Admin3 1971"
   ]
  },
  {
   "cell_type": "markdown",
   "metadata": {},
   "source": [
    "## Converting the INDIA_ADMIN_3_2739.shp into geojson\n",
    "\n",
    "1. this file is named into India_admin3_1971, where 1971 dentoes the year. Based on Census of India Atlas [2011](http://censusindia.gov.in/2011census/maps/administrative_maps/Final%20Atlas%20India%202011.pdf) and paper on [disctirct number changes in India ](www.cdedse.org/pdf/work176.pdf), the total number of subdistricts in India for 2011 census is 5924, for 2001 is 5463, the district count during this time is 640 and 593 respectivly. Based on this propotion of mean 10 subdistirct for each district, during 1971 census the number of distircts in India is 356 and assumed that the count 2739 may be of census of India 1971 and thus the name change. "
   ]
  },
  {
   "cell_type": "code",
   "execution_count": 5,
   "metadata": {
    "collapsed": true
   },
   "outputs": [],
   "source": [
    "import geopandas as gp\n",
    "\n",
    "db=gp.read_file('INDIA_ADMIN_3_2739.shp')\n",
    "db1=db[['TALUK', 'STATE', 'DISTRICT','geometry']]\n",
    "db2=gp.GeoDataFrame(db1)\n",
    "db2.to_file('India_admin3_1971.geojson', driver=\"GeoJSON\")"
   ]
  },
  {
   "cell_type": "markdown",
   "metadata": {},
   "source": [
    "# India Admin3 2001\n",
    "\n",
    "1. The Datameet discussion on [India shape files](https://groups.google.com/d/msg/datameet/X5kzViRMJKs/RvjsNPKzkn8J), subditsrict shape file was downloaded from the link proivided in the thread, it has 5469 attributes nearing to count given in Census of India atlas 2011."
   ]
  },
  {
   "cell_type": "code",
   "execution_count": 10,
   "metadata": {
    "collapsed": true
   },
   "outputs": [],
   "source": [
    "import geopandas as gp\n",
    "\n",
    "db=gp.read_file('india subdists 2001.shp')\n",
    "db1=db[['ID_', 'NAME1_', 'NAME2_','geometry']]\n",
    "db2=gp.GeoDataFrame(db1)\n",
    "db2.to_file('India_admin3_2011.geojson', driver=\"GeoJSON\")"
   ]
  }
 ],
 "metadata": {
  "kernelspec": {
   "display_name": "Python 2",
   "language": "python",
   "name": "python2"
  },
  "language_info": {
   "codemirror_mode": {
    "name": "ipython",
    "version": 2
   },
   "file_extension": ".py",
   "mimetype": "text/x-python",
   "name": "python",
   "nbconvert_exporter": "python",
   "pygments_lexer": "ipython2",
   "version": "2.7.14"
  },
  "latex_envs": {
   "LaTeX_envs_menu_present": true,
   "autocomplete": true,
   "bibliofile": "biblio.bib",
   "cite_by": "apalike",
   "current_citInitial": 1,
   "eqLabelWithNumbers": true,
   "eqNumInitial": 1,
   "hotkeys": {
    "equation": "Ctrl-E",
    "itemize": "Ctrl-I"
   },
   "labels_anchors": false,
   "latex_user_defs": false,
   "report_style_numbering": false,
   "user_envs_cfg": false
  },
  "toc": {
   "colors": {
    "hover_highlight": "#DAA520",
    "navigate_num": "#000000",
    "navigate_text": "#333333",
    "running_highlight": "#FF0000",
    "selected_highlight": "#FFD700",
    "sidebar_border": "#EEEEEE",
    "wrapper_background": "#FFFFFF"
   },
   "moveMenuLeft": true,
   "nav_menu": {
    "height": "59px",
    "width": "252px"
   },
   "navigate_menu": true,
   "number_sections": true,
   "sideBar": true,
   "threshold": 4,
   "toc_cell": true,
   "toc_section_display": "block",
   "toc_window_display": true,
   "widenNotebook": false
  }
 },
 "nbformat": 4,
 "nbformat_minor": 2
}
